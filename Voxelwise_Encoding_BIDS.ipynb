{
 "cells": [
  {
   "cell_type": "code",
   "execution_count": null,
   "metadata": {},
   "outputs": [],
   "source": [
    "#hide\n",
    "#all_slow"
   ]
  },
  {
   "cell_type": "markdown",
   "metadata": {},
   "source": [
    "# Using this module as a BIDS app"
   ]
  },
  {
   "cell_type": "markdown",
   "metadata": {},
   "source": [
    "This app allows you to train and validate voxel-wise encoding models for a BIDS dataset with a BIDS-compliant stimulus representation. See below for an example on how to use it.\n",
    "To specify parameters for the processing of the stimulus (e.g. lagging and offsetting relative to fMRI), you can specify parameters that are supplied to `make_X_Y` in the `preprocessing` module as a JSON file. Similarly you can specify parameters to be supplied to `get_ridge_plus_scores` in the `encoding` module as a JSON as well.\n",
    "Masking is done by default, by checking for masks in `output_dir/masks/` that are either named `sub-PARTICIPANT_LABEL_mask.nii.gz` (where PARTICIPANT_LABEL is the label provided by the user) or that are named `group_mask.nii.gz`. To disable masking call with the lag `--no-masking`.\n",
    "Voxel-encoding models are trained in a cross-validation scheme: the parameter `cv` that is supplied to `get_ridge_plus_scores` via a configuation JSON file determines the number of folds in the cross-validation. Each fold is left out once, while a model is trained (and hyperparameters are tuned) on the remaining folds - model validation is done by voxel-wise [product moment correlation](https://en.wikipedia.org/wiki/Pearson_correlation_coefficient) between the predicted and observed fMRI activity for the left-out fold and saved as a 4D nifti in the output folder (with one image per left-out fold).\n",
    "Similarly, for each left-out fold, Ridge regression models (trained on the remaining folds) are saved as a pickle file in the output folder.\n",
    "\n",
    "\n",
    "This shows how to (for a BIDS compliant dataset) extract features, save them in BIDS format, and run a BIDS app for voxel-wise encoding models.\n",
    "We are going to use [this](https://openneuro.org/datasets/ds002322/versions/1.0.4) dataset.\n",
    "\n",
    "#### *Warning*: Executing this notebook will download the full dataset."
   ]
  },
  {
   "cell_type": "code",
   "execution_count": null,
   "metadata": {},
   "outputs": [],
   "source": [
    "!aws s3 sync --no-sign-request s3://openneuro.org/ds002322 ds002322-download/"
   ]
  },
  {
   "cell_type": "markdown",
   "metadata": {},
   "source": [
    "## Extracting a stimulus representation\n",
    "\n",
    "The dataset in question consists of fMRI activity recorded of several participants while they listened to a reading of the first chapter of Lewis Carroll’s Alice in Wonderland.\n",
    "First we want to extract a stimulus representation that we can use - I chose a Mel spectrogram for demonstration.\n",
    "[This](https://github.com/mjboos/audio2bidsstim/) small Python script extracts such a representation and saves it in a BIDS compliant format.\n",
    "\n",
    "If you get an error that `sndfile library` was not found, you will need to use conda to install it."
   ]
  },
  {
   "cell_type": "code",
   "execution_count": 5,
   "metadata": {},
   "outputs": [
    {
     "name": "stdout",
     "output_type": "stream",
     "text": [
      "\u001b[0mtotal 644\n",
      "drwxrwxrwx  3 mwitte users   4096 Apr 13 15:27 audio2bidsstim\n",
      "drwxrwxrwx  2 mwitte users   4096 Mar  5 18:35 boutiques\n",
      "drwxrwxrwx  2 mwitte users   4096 Mar  8 17:19 config\n",
      "-rwxrwxrwx  1 mwitte users     78 Apr 13 15:30 config.json\n",
      "-rwxrwxrwx  1 mwitte users   1684 Mar  5 18:35 Dockerfile\n",
      "drwxrwxrwx 11 mwitte users   4096 Mar  5 18:35 docs\n",
      "-rwxrwxrwx  1 mwitte users    696 Apr 13 15:30 DownTheRabbitHoleFinal_mono_exp120_NR16_pad.json\n",
      "-rwxrwxrwx  1 mwitte users 227110 Apr 13 15:30 DownTheRabbitHoleFinal_mono_exp120_NR16_pad.tsv.gz\n",
      "drwxrwxrwx 32 mwitte users   4096 Mar  8 17:14 ds002322-download\n",
      "-rwxrwxrwx  1 mwitte users     59 Feb 17 02:00 encoding_config.json\n",
      "-rwxrwxrwx  1 mwitte users  26607 Mar  5 18:35 encoding.ipynb\n",
      "-rwxrwxrwx  1 mwitte users   1374 Mar  5 18:35 git-set-file-times\n",
      "-rwxrwxrwx  1 mwitte users  69623 Mar  5 18:35 index.ipynb\n",
      "-rwxrwxrwx  1 mwitte users     15 Feb 17 02:00 lagging_config.json\n",
      "-rwxrwxrwx  1 mwitte users  11357 Mar  5 18:35 LICENSE\n",
      "-rwxrwxrwx  1 mwitte users   1054 Mar  5 18:35 LICENSE.txt\n",
      "-rwxrwxrwx  1 mwitte users    478 Mar  5 18:35 Makefile\n",
      "-rwxrwxrwx  1 mwitte users    111 Mar  5 18:35 MANIFEST.in\n",
      "drwxrwxrwx  2 mwitte users   4096 Mar  8 17:52 output\n",
      "-rwxrwxrwx  1 mwitte users  27967 Mar  5 18:35 preprocessing.ipynb\n",
      "-rwxrwxrwx  1 mwitte users  20972 Mar  5 18:35 process_bids.ipynb\n",
      "drwxrwxrwx  2 mwitte users   4096 Apr 12 14:42 __pycache__\n",
      "-rwxrwxrwx  1 mwitte users   4686 Mar  5 18:35 README.md\n",
      "-rwxrwxrwx  1 mwitte users     54 Mar  5 18:35 requirements.txt\n",
      "-rwxrwxrwx  1 mwitte users   8449 Apr 12 13:04 run.py\n",
      "-rwxrwxrwx  1 mwitte users   3417 Apr 12 16:07 run_with_arguments.py\n",
      "-rwxrwxrwx  1 mwitte users  67404 Mar  5 18:35 scheme_BIDS_encoding.png\n",
      "-rwxrwxrwx  1 mwitte users   2395 Mar  5 18:35 settings.ini\n",
      "-rwxrwxrwx  1 mwitte users   1921 Mar  5 18:35 setup.py\n",
      "-rwxrwxrwx  1 mwitte users    170 Mar  5 18:35 Singularity\n",
      "drwxrwxrwx  2 mwitte users   4096 Mar  5 18:35 tests\n",
      "-rwxrwxrwx  1 mwitte users      4 Mar  5 18:35 version\n",
      "-rwxrwxrwx  1 mwitte users    482 Mar  8 18:13 visualization.py\n",
      "drwxrwxrwx  3 mwitte users   4096 Mar  8 17:15 voxelwiseencoding\n",
      "-rwxrwxrwx  1 mwitte users  72323 Apr 13 15:29 Voxelwise_Encoding_BIDS.ipynb\n"
     ]
    }
   ],
   "source": [
    "import json\n",
    "# these are the parameters for extracting a Mel spectrogram\n",
    "# for computational ease in this example we want 1 sec segments of 31 Mel frequencies with a max frequency of * KHz\n",
    "mel_params = {'n_mels': 31, 'sr': 16000, 'hop_length': 16000, 'n_fft': 16000, 'fmax': 8000}\n",
    "with open('config.json', 'w+') as fl:\n",
    "    json.dump(mel_params, fl)\n",
    "\n",
    "#!git clone https://github.com/mjboos/audio2bidsstim/\n",
    "#!pip install -r audio2bidsstim/requirements.txt\n",
    "!python audio2bidsstim/wav_files_to_bids_tsv.py ds002322-download/stimuli/DownTheRabbitHoleFinal_mono_exp120_NR16_pad.wav -c config.json\n",
    "!ls -l"
   ]
  },
  {
   "cell_type": "markdown",
   "metadata": {},
   "source": [
    "Now we must copy these files into the BIDS dataset directory according to [these](https://bids-specification.readthedocs.io/en/stable/04-modality-specific-files/06-physiological-and-other-continuous-recordings.html) specifications.\n",
    "We are going to use the `derivatives` folder for the already preprocessed data."
   ]
  },
  {
   "cell_type": "code",
   "execution_count": 6,
   "metadata": {},
   "outputs": [],
   "source": [
    "!cp DownTheRabbitHoleFinal_mono_exp120_NR16_pad.tsv.gz ds002322-download/derivatives/task-alice_stim.tsv.gz\n",
    "!cp DownTheRabbitHoleFinal_mono_exp120_NR16_pad.json ds002322-download/derivatives/sub-24/sub-24_task-alice_stim.json"
   ]
  },
  {
   "cell_type": "markdown",
   "metadata": {},
   "source": [
    "And, lastly, because for this dataset the derivatives folder is missing timing information for the BOLD files - we are only interested in the TR - we have to copy that as well."
   ]
  },
  {
   "cell_type": "code",
   "execution_count": 3,
   "metadata": {},
   "outputs": [],
   "source": [
    "!cp ds002322-download/sub-24/sub-24_task-alice_bold.json ds002322-download/derivatives/sub-24/sub-24_task-alice_bold.json "
   ]
  },
  {
   "cell_type": "markdown",
   "metadata": {},
   "source": [
    "## Running the analysis\n",
    "\n",
    "Now we're all set and can run our encoding analysis. This analysis uses standard Ridge regression, and we're going to specify some additional parameters here."
   ]
  },
  {
   "cell_type": "code",
   "execution_count": 4,
   "metadata": {},
   "outputs": [],
   "source": [
    "ridge_params = {'alphas': [1e-1, 1, 100, 1000], 'cv': 3, 'normalize': True}\n",
    "\n",
    "# and for lagging the stimulus as well - we want to include 6 sec stimulus segments to predict fMRI\n",
    "lagging_params = {'lag_time': 6}\n",
    "with open('encoding_config.json', 'w+') as fl:\n",
    "    json.dump(ridge_params, fl)\n",
    "    \n",
    "with open('lagging_config.json', 'w+') as fl:\n",
    "    json.dump(lagging_params, fl)"
   ]
  },
  {
   "cell_type": "markdown",
   "metadata": {},
   "source": [
    "\n",
    "Now we just need [this](https://github.com/mjboos/voxelwiseencoding) BIDS app for running the analysis.\n",
    "Running this cell will fit voxel-wise encoding models, which right now need about 8 Gig of RAM. "
   ]
  },
  {
   "cell_type": "markdown",
   "metadata": {},
   "source": [
    "### Using Docker to run the voxelwise-encoding BIDS app\n",
    "\n",
    "You can use Docker to build/get an image that already includes all libraries:"
   ]
  },
  {
   "cell_type": "code",
   "execution_count": null,
   "metadata": {},
   "outputs": [],
   "source": [
    "#!git clone https://github.com/mjboos/voxelwiseencoding\n",
    "#!mkdir output\n",
    "# we need to mount a config folder for our json files\n",
    "#!mkdir config\n",
    "#!cp *config.json config/\n",
    "#!docker run -i --rm -v ds002322-download/derivatives:bids_dataset/:ro -v config/:/config:ro -v output/:/output mjboos/voxelwiseencoding /bids_dataset /output --task alice --skip_bids_validator --participant_label 18 --preprocessing-config /config/lagging_config.json --encoding-config /config/encoding_config.json --detrend --standardize zscore "
   ]
  },
  {
   "cell_type": "markdown",
   "metadata": {},
   "source": [
    "### Alternative: run the module directly\n",
    "\n",
    "Alternatively you can install the required libraries directly and run the Python script yourself."
   ]
  },
  {
   "cell_type": "code",
   "execution_count": 2,
   "metadata": {},
   "outputs": [
    {
     "name": "stdout",
     "output_type": "stream",
     "text": [
      "mkdir: cannot create directory ‘output/sub-24’: File exists\r\n"
     ]
    }
   ],
   "source": [
    "#!git clone https://github.com/mjboos/voxelwiseencoding\n",
    "#!pip install -r voxelwiseencoding/requirements.txt\n",
    "!mkdir output/sub-24\n",
    "!python run.py ds002322-download/derivatives output/sub-24 --task alice --skip_bids_validator --participant_label 24 --preprocessing-config lagging_config.json --encoding-config encoding_config.json --detrend --standardize zscore "
   ]
  },
  {
   "cell_type": "markdown",
   "metadata": {},
   "source": [
    "Now we'll have some ridge regressions saved in output, as well as scores saved as a Nifti file - which we can visualize.\n",
    "First we load the scores - we have one volume containing the scores per fold - and average them and then plot them via Nilearn."
   ]
  },
  {
   "cell_type": "code",
   "execution_count": 6,
   "metadata": {},
   "outputs": [
    {
     "name": "stdout",
     "output_type": "stream",
     "text": [
      "(79, 95, 68, 3)\n",
      "(79, 95, 68, 372)\n",
      "(79, 95, 68, 370)\n"
     ]
    }
   ],
   "source": [
    "from nilearn.image import load_img\n",
    "size_scores = load_img('output/sub-24/sub-24_task-alice_scores.nii.gz')\n",
    "print(size_scores.shape)\n",
    "\n",
    "\n",
    "size_bold_raw = load_img('/data2/azubaidi/github/voxelwiseencoding/ds002322-download/derivatives/sub-24/sub-24_task-alice_bold_preprocessed.nii.gz')\n",
    "print(size_bold_raw.shape)\n",
    "\n",
    "size_bold_prediction = load_img('output/sub-24/sub-24_task-alice_bold_prediction.nii.gz')\n",
    "print(size_bold_prediction.shape)\n",
    "\n",
    "\n",
    "\n",
    "#https://docs.python.org/3/library/pickle.html\n",
    "\n",
    "#import pickle\n",
    "\n",
    "#with open('output/sub-24/sub-24_task-alice_bold_prediction.pkl', 'rb') as p_f:\n",
    "   # data = pickle.load(p_f)\n",
    "    \n",
    "import joblib\n",
    "ridges_list = joblib.load('output/sub-24/sub-24_task-alice_ridges.pkl')\n",
    "#print(len(ridges_list))  # number of list \n",
    "#print(ridges_list.shape)\n",
    "\n",
    "\n",
    "#print(*bold_prediction_list)\n",
    "\n",
    "\n",
    "#import pickle\n",
    "#import pandas as pd\n",
    "#df=pd.read_pickle('output/sub-24/sub-24_task-alice_bold_prediction.pkl')\n",
    "#print(df)\n",
    "# df_new=df[df[\"y\"].notnull()]\n",
    "#print(df.y.shape)\n",
    "\n",
    "#import pickle\n",
    "#inf = pickle.load(open('output/sub-24/sub-24_task-alice_bold_prediction.pkl', 'r'))\n",
    "#print(inf.X.shape)\n",
    "#print(inf.y.shape)\n",
    "\n",
    "\n",
    "#import numpy as np\n",
    "#bold_prediction = np.concatenate(bold_prediction_list, axis=0)\n",
    "#print(bold_prediction.shape)\n",
    "\n",
    "\n",
    "#from nibabel import save\n",
    "#save(scores_bold, os.path.join(args.output_dir, '{0}_{1}scores.nii.gz'.format(filename_output, identifier)))\n",
    "\n",
    "#import pandas as pd\n",
    "#size_bold_prediction =pd.read_pickle(\"output/sub-24/sub-24_task-alice_bold_prediction.pkl\", compression=None)\n",
    "\n",
    "\n",
    "\n",
    "\n",
    "\n",
    "#import pickle\n",
    "\n",
    "#with open('output/sub-24/sub-24_task-alice_bold_prediction.pkl', 'r') as p_f:\n",
    "    #data_bold_prediction = pickle.load(p_f)\n",
    "\n",
    "    \n",
    "    \n",
    "#size_bold_prediction = load_img('output/sub-24/sub-24_task-alice_bold_prediction.pkl')\n",
    "#size_train_indices = load_img('output/sub-24/sub-24_task-alice_train_indices.pkl')\n",
    "#size_test_indices = load_img('output/sub-24/sub-24_task-alice_test_indices.pkl')\n",
    "\n",
    "\n"
   ]
  },
  {
   "cell_type": "code",
   "execution_count": 7,
   "metadata": {},
   "outputs": [
    {
     "name": "stdout",
     "output_type": "stream",
     "text": [
      "[[ 2.48655027e-06 -6.39271239e-06 -5.67731662e-06 ...  6.96936416e-06\n",
      "   3.51425908e-06  4.76063922e-06]\n",
      " [-4.47394597e-07 -7.05618754e-06 -6.47664868e-06 ... -2.10885330e-06\n",
      "  -3.76836576e-06 -2.67684096e-06]\n",
      " [-3.98202910e-06 -4.93567138e-06 -6.30485733e-06 ... -9.68594187e-06\n",
      "  -1.00677047e-05 -8.99470325e-06]\n",
      " ...\n",
      " [ 2.02744198e-05  1.92110194e-05  9.49475967e-06 ... -3.45518624e-05\n",
      "  -3.65285427e-05 -3.07127603e-05]\n",
      " [ 6.37283915e-06  1.17599545e-05  6.83075532e-06 ... -2.69157541e-05\n",
      "  -2.88294516e-05 -2.32095545e-05]\n",
      " [ 5.27086472e-06  9.39350135e-06  9.14619164e-06 ... -1.51852520e-05\n",
      "  -1.80391130e-05 -1.33371935e-05]]\n"
     ]
    }
   ],
   "source": [
    "#import pickle\n",
    "#with open('output/sub-24/sub-24_task-alice_ridges.pkl', 'rb') as handle:\n",
    "    #b = pickle.load(handle)\n",
    "    \n",
    "    \n",
    "    \n",
    "import joblib\n",
    "ridges_list = joblib.load('output/sub-24/sub-24_task-alice_ridges.pkl')\n",
    "print(ridges_list[0].coef_)  # number of list \n",
    "coef_list_1=ridges_list[0].coef_\n",
    "\n",
    "#print(ridges_list.shape)    "
   ]
  },
  {
   "cell_type": "markdown",
   "metadata": {},
   "source": [
    "And voilà, we see that we can predict activity in the auditory areas."
   ]
  },
  {
   "cell_type": "code",
   "execution_count": 43,
   "metadata": {},
   "outputs": [
    {
     "data": {
      "image/png": "[encoded data removed]",
      "text/plain": [
       "<Figure size 525.6x187.2 with 5 Axes>"
      ]
     },
     "metadata": {},
     "output_type": "display_data"
    }
   ],
   "source": [
    "from nilearn.image import mean_img\n",
    "mean_scores = mean_img('output/sub-24/sub-24_task-alice_scores.nii.gz')\n",
    "\n",
    "from nilearn import plotting\n",
    "plotting.plot_stat_map(mean_scores, threshold=0.1)\n",
    "plotting.show()"
   ]
  },
  {
   "cell_type": "code",
   "execution_count": null,
   "metadata": {},
   "outputs": [],
   "source": []
  }
 ],
 "metadata": {
  "kernelspec": {
   "display_name": "Python 3",
   "language": "python",
   "name": "python3"
  },
  "language_info": {
   "codemirror_mode": {
    "name": "ipython",
    "version": 3
   },
   "file_extension": ".py",
   "mimetype": "text/x-python",
   "name": "python",
   "nbconvert_exporter": "python",
   "pygments_lexer": "ipython3",
   "version": "3.6.11"
  }
 },
 "nbformat": 4,
 "nbformat_minor": 2
}
